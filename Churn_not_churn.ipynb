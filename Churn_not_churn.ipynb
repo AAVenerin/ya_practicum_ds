{
 "cells": [
  {
   "cell_type": "markdown",
   "metadata": {
    "toc": true
   },
   "source": [
    "<h1>Содержание<span class=\"tocSkip\"></span></h1>\n",
    "<div class=\"toc\"><ul class=\"toc-item\"><li><span><a href=\"#Подготовка-данных\" data-toc-modified-id=\"Подготовка-данных-1\"><span class=\"toc-item-num\">1&nbsp;&nbsp;</span>Подготовка данных</a></span></li><li><span><a href=\"#Исследование-задачи\" data-toc-modified-id=\"Исследование-задачи-2\"><span class=\"toc-item-num\">2&nbsp;&nbsp;</span>Исследование задачи</a></span></li><li><span><a href=\"#Борьба-с-дисбалансом\" data-toc-modified-id=\"Борьба-с-дисбалансом-3\"><span class=\"toc-item-num\">3&nbsp;&nbsp;</span>Борьба с дисбалансом</a></span></li><li><span><a href=\"#Тестирование-модели\" data-toc-modified-id=\"Тестирование-модели-4\"><span class=\"toc-item-num\">4&nbsp;&nbsp;</span>Тестирование модели</a></span></li><li><span><a href=\"#Чек-лист-готовности-проекта\" data-toc-modified-id=\"Чек-лист-готовности-проекта-5\"><span class=\"toc-item-num\">5&nbsp;&nbsp;</span>Чек-лист готовности проекта</a></span></li></ul></div>"
   ]
  },
  {
   "cell_type": "markdown",
   "metadata": {},
   "source": [
    "# Отток клиентов"
   ]
  },
  {
   "cell_type": "markdown",
   "metadata": {},
   "source": [
    "Из «Бета-Банка» стали уходить клиенты. Каждый месяц. Немного, но заметно. Банковские маркетологи посчитали: сохранять текущих клиентов дешевле, чем привлекать новых.\n",
    "\n",
    "Нужно спрогнозировать, уйдёт клиент из банка в ближайшее время или нет. Вам предоставлены исторические данные о поведении клиентов и расторжении договоров с банком. \n",
    "\n",
    "Постройте модель с предельно большим значением *F1*-меры. Чтобы сдать проект успешно, нужно довести метрику до 0.59. Проверьте *F1*-меру на тестовой выборке самостоятельно.\n",
    "\n",
    "Дополнительно измеряйте *AUC-ROC*, сравнивайте её значение с *F1*-мерой.\n",
    "\n",
    "Источник данных: [https://www.kaggle.com/barelydedicated/bank-customer-churn-modeling](https://www.kaggle.com/barelydedicated/bank-customer-churn-modeling)"
   ]
  },
  {
   "cell_type": "code",
   "execution_count": 1,
   "metadata": {},
   "outputs": [],
   "source": [
    "import pandas as pd\n",
    "import numpy as np\n",
    "import matplotlib.pyplot as plt \n",
    "from sklearn.model_selection import train_test_split\n",
    "from sklearn.metrics import (\n",
    "    f1_score, precision_score,\n",
    "    recall_score, \n",
    "    roc_curve, \n",
    "    roc_auc_score \n",
    ")\n",
    "from sklearn.preprocessing import OrdinalEncoder\n",
    "from sklearn.tree import DecisionTreeClassifier\n",
    "from sklearn.dummy import DummyClassifier\n",
    "from sklearn.ensemble import RandomForestClassifier\n",
    "from sklearn.utils import shuffle\n",
    "from tqdm import tqdm"
   ]
  },
  {
   "cell_type": "markdown",
   "metadata": {},
   "source": [
    "## Подготовка данных"
   ]
  },
  {
   "cell_type": "code",
   "execution_count": 2,
   "metadata": {
    "scrolled": true
   },
   "outputs": [
    {
     "name": "stdout",
     "output_type": "stream",
     "text": [
      "<class 'pandas.core.frame.DataFrame'>\n",
      "RangeIndex: 10000 entries, 0 to 9999\n",
      "Data columns (total 14 columns):\n",
      " #   Column           Non-Null Count  Dtype  \n",
      "---  ------           --------------  -----  \n",
      " 0   RowNumber        10000 non-null  int64  \n",
      " 1   CustomerId       10000 non-null  int64  \n",
      " 2   Surname          10000 non-null  object \n",
      " 3   CreditScore      10000 non-null  int64  \n",
      " 4   Geography        10000 non-null  object \n",
      " 5   Gender           10000 non-null  object \n",
      " 6   Age              10000 non-null  int64  \n",
      " 7   Tenure           9091 non-null   float64\n",
      " 8   Balance          10000 non-null  float64\n",
      " 9   NumOfProducts    10000 non-null  int64  \n",
      " 10  HasCrCard        10000 non-null  int64  \n",
      " 11  IsActiveMember   10000 non-null  int64  \n",
      " 12  EstimatedSalary  10000 non-null  float64\n",
      " 13  Exited           10000 non-null  int64  \n",
      "dtypes: float64(3), int64(8), object(3)\n",
      "memory usage: 1.1+ MB\n"
     ]
    },
    {
     "data": {
      "text/html": [
       "<div>\n",
       "<style scoped>\n",
       "    .dataframe tbody tr th:only-of-type {\n",
       "        vertical-align: middle;\n",
       "    }\n",
       "\n",
       "    .dataframe tbody tr th {\n",
       "        vertical-align: top;\n",
       "    }\n",
       "\n",
       "    .dataframe thead th {\n",
       "        text-align: right;\n",
       "    }\n",
       "</style>\n",
       "<table border=\"1\" class=\"dataframe\">\n",
       "  <thead>\n",
       "    <tr style=\"text-align: right;\">\n",
       "      <th></th>\n",
       "      <th>RowNumber</th>\n",
       "      <th>CustomerId</th>\n",
       "      <th>Surname</th>\n",
       "      <th>CreditScore</th>\n",
       "      <th>Geography</th>\n",
       "      <th>Gender</th>\n",
       "      <th>Age</th>\n",
       "      <th>Tenure</th>\n",
       "      <th>Balance</th>\n",
       "      <th>NumOfProducts</th>\n",
       "      <th>HasCrCard</th>\n",
       "      <th>IsActiveMember</th>\n",
       "      <th>EstimatedSalary</th>\n",
       "      <th>Exited</th>\n",
       "    </tr>\n",
       "  </thead>\n",
       "  <tbody>\n",
       "    <tr>\n",
       "      <th>0</th>\n",
       "      <td>1</td>\n",
       "      <td>15634602</td>\n",
       "      <td>Hargrave</td>\n",
       "      <td>619</td>\n",
       "      <td>France</td>\n",
       "      <td>Female</td>\n",
       "      <td>42</td>\n",
       "      <td>2.0</td>\n",
       "      <td>0.00</td>\n",
       "      <td>1</td>\n",
       "      <td>1</td>\n",
       "      <td>1</td>\n",
       "      <td>101348.88</td>\n",
       "      <td>1</td>\n",
       "    </tr>\n",
       "    <tr>\n",
       "      <th>1</th>\n",
       "      <td>2</td>\n",
       "      <td>15647311</td>\n",
       "      <td>Hill</td>\n",
       "      <td>608</td>\n",
       "      <td>Spain</td>\n",
       "      <td>Female</td>\n",
       "      <td>41</td>\n",
       "      <td>1.0</td>\n",
       "      <td>83807.86</td>\n",
       "      <td>1</td>\n",
       "      <td>0</td>\n",
       "      <td>1</td>\n",
       "      <td>112542.58</td>\n",
       "      <td>0</td>\n",
       "    </tr>\n",
       "    <tr>\n",
       "      <th>2</th>\n",
       "      <td>3</td>\n",
       "      <td>15619304</td>\n",
       "      <td>Onio</td>\n",
       "      <td>502</td>\n",
       "      <td>France</td>\n",
       "      <td>Female</td>\n",
       "      <td>42</td>\n",
       "      <td>8.0</td>\n",
       "      <td>159660.80</td>\n",
       "      <td>3</td>\n",
       "      <td>1</td>\n",
       "      <td>0</td>\n",
       "      <td>113931.57</td>\n",
       "      <td>1</td>\n",
       "    </tr>\n",
       "    <tr>\n",
       "      <th>3</th>\n",
       "      <td>4</td>\n",
       "      <td>15701354</td>\n",
       "      <td>Boni</td>\n",
       "      <td>699</td>\n",
       "      <td>France</td>\n",
       "      <td>Female</td>\n",
       "      <td>39</td>\n",
       "      <td>1.0</td>\n",
       "      <td>0.00</td>\n",
       "      <td>2</td>\n",
       "      <td>0</td>\n",
       "      <td>0</td>\n",
       "      <td>93826.63</td>\n",
       "      <td>0</td>\n",
       "    </tr>\n",
       "    <tr>\n",
       "      <th>4</th>\n",
       "      <td>5</td>\n",
       "      <td>15737888</td>\n",
       "      <td>Mitchell</td>\n",
       "      <td>850</td>\n",
       "      <td>Spain</td>\n",
       "      <td>Female</td>\n",
       "      <td>43</td>\n",
       "      <td>2.0</td>\n",
       "      <td>125510.82</td>\n",
       "      <td>1</td>\n",
       "      <td>1</td>\n",
       "      <td>1</td>\n",
       "      <td>79084.10</td>\n",
       "      <td>0</td>\n",
       "    </tr>\n",
       "  </tbody>\n",
       "</table>\n",
       "</div>"
      ],
      "text/plain": [
       "   RowNumber  CustomerId   Surname  CreditScore Geography  Gender  Age  \\\n",
       "0          1    15634602  Hargrave          619    France  Female   42   \n",
       "1          2    15647311      Hill          608     Spain  Female   41   \n",
       "2          3    15619304      Onio          502    France  Female   42   \n",
       "3          4    15701354      Boni          699    France  Female   39   \n",
       "4          5    15737888  Mitchell          850     Spain  Female   43   \n",
       "\n",
       "   Tenure    Balance  NumOfProducts  HasCrCard  IsActiveMember  \\\n",
       "0     2.0       0.00              1          1               1   \n",
       "1     1.0   83807.86              1          0               1   \n",
       "2     8.0  159660.80              3          1               0   \n",
       "3     1.0       0.00              2          0               0   \n",
       "4     2.0  125510.82              1          1               1   \n",
       "\n",
       "   EstimatedSalary  Exited  \n",
       "0        101348.88       1  \n",
       "1        112542.58       0  \n",
       "2        113931.57       1  \n",
       "3         93826.63       0  \n",
       "4         79084.10       0  "
      ]
     },
     "execution_count": 2,
     "metadata": {},
     "output_type": "execute_result"
    }
   ],
   "source": [
    "data = pd.read_csv('/datasets/Churn.csv')\n",
    "data.info()\n",
    "data.head()"
   ]
  },
  {
   "cell_type": "markdown",
   "metadata": {},
   "source": [
    "Приведем названия к змеиному регистру и сделаем их более компактными."
   ]
  },
  {
   "cell_type": "code",
   "execution_count": 3,
   "metadata": {
    "scrolled": true
   },
   "outputs": [
    {
     "data": {
      "text/html": [
       "<div>\n",
       "<style scoped>\n",
       "    .dataframe tbody tr th:only-of-type {\n",
       "        vertical-align: middle;\n",
       "    }\n",
       "\n",
       "    .dataframe tbody tr th {\n",
       "        vertical-align: top;\n",
       "    }\n",
       "\n",
       "    .dataframe thead th {\n",
       "        text-align: right;\n",
       "    }\n",
       "</style>\n",
       "<table border=\"1\" class=\"dataframe\">\n",
       "  <thead>\n",
       "    <tr style=\"text-align: right;\">\n",
       "      <th></th>\n",
       "      <th>row</th>\n",
       "      <th>id</th>\n",
       "      <th>surname</th>\n",
       "      <th>credit_score</th>\n",
       "      <th>geography</th>\n",
       "      <th>gender</th>\n",
       "      <th>age</th>\n",
       "      <th>tenure</th>\n",
       "      <th>balance</th>\n",
       "      <th>num_of_products</th>\n",
       "      <th>credit_card</th>\n",
       "      <th>is_active_member</th>\n",
       "      <th>salary</th>\n",
       "      <th>churn</th>\n",
       "    </tr>\n",
       "  </thead>\n",
       "  <tbody>\n",
       "    <tr>\n",
       "      <th>0</th>\n",
       "      <td>1</td>\n",
       "      <td>15634602</td>\n",
       "      <td>Hargrave</td>\n",
       "      <td>619</td>\n",
       "      <td>France</td>\n",
       "      <td>Female</td>\n",
       "      <td>42</td>\n",
       "      <td>2.0</td>\n",
       "      <td>0.00</td>\n",
       "      <td>1</td>\n",
       "      <td>1</td>\n",
       "      <td>1</td>\n",
       "      <td>101348.88</td>\n",
       "      <td>1</td>\n",
       "    </tr>\n",
       "    <tr>\n",
       "      <th>1</th>\n",
       "      <td>2</td>\n",
       "      <td>15647311</td>\n",
       "      <td>Hill</td>\n",
       "      <td>608</td>\n",
       "      <td>Spain</td>\n",
       "      <td>Female</td>\n",
       "      <td>41</td>\n",
       "      <td>1.0</td>\n",
       "      <td>83807.86</td>\n",
       "      <td>1</td>\n",
       "      <td>0</td>\n",
       "      <td>1</td>\n",
       "      <td>112542.58</td>\n",
       "      <td>0</td>\n",
       "    </tr>\n",
       "    <tr>\n",
       "      <th>2</th>\n",
       "      <td>3</td>\n",
       "      <td>15619304</td>\n",
       "      <td>Onio</td>\n",
       "      <td>502</td>\n",
       "      <td>France</td>\n",
       "      <td>Female</td>\n",
       "      <td>42</td>\n",
       "      <td>8.0</td>\n",
       "      <td>159660.80</td>\n",
       "      <td>3</td>\n",
       "      <td>1</td>\n",
       "      <td>0</td>\n",
       "      <td>113931.57</td>\n",
       "      <td>1</td>\n",
       "    </tr>\n",
       "    <tr>\n",
       "      <th>3</th>\n",
       "      <td>4</td>\n",
       "      <td>15701354</td>\n",
       "      <td>Boni</td>\n",
       "      <td>699</td>\n",
       "      <td>France</td>\n",
       "      <td>Female</td>\n",
       "      <td>39</td>\n",
       "      <td>1.0</td>\n",
       "      <td>0.00</td>\n",
       "      <td>2</td>\n",
       "      <td>0</td>\n",
       "      <td>0</td>\n",
       "      <td>93826.63</td>\n",
       "      <td>0</td>\n",
       "    </tr>\n",
       "    <tr>\n",
       "      <th>4</th>\n",
       "      <td>5</td>\n",
       "      <td>15737888</td>\n",
       "      <td>Mitchell</td>\n",
       "      <td>850</td>\n",
       "      <td>Spain</td>\n",
       "      <td>Female</td>\n",
       "      <td>43</td>\n",
       "      <td>2.0</td>\n",
       "      <td>125510.82</td>\n",
       "      <td>1</td>\n",
       "      <td>1</td>\n",
       "      <td>1</td>\n",
       "      <td>79084.10</td>\n",
       "      <td>0</td>\n",
       "    </tr>\n",
       "  </tbody>\n",
       "</table>\n",
       "</div>"
      ],
      "text/plain": [
       "   row        id   surname  credit_score geography  gender  age  tenure  \\\n",
       "0    1  15634602  Hargrave           619    France  Female   42     2.0   \n",
       "1    2  15647311      Hill           608     Spain  Female   41     1.0   \n",
       "2    3  15619304      Onio           502    France  Female   42     8.0   \n",
       "3    4  15701354      Boni           699    France  Female   39     1.0   \n",
       "4    5  15737888  Mitchell           850     Spain  Female   43     2.0   \n",
       "\n",
       "     balance  num_of_products  credit_card  is_active_member     salary  churn  \n",
       "0       0.00                1            1                 1  101348.88      1  \n",
       "1   83807.86                1            0                 1  112542.58      0  \n",
       "2  159660.80                3            1                 0  113931.57      1  \n",
       "3       0.00                2            0                 0   93826.63      0  \n",
       "4  125510.82                1            1                 1   79084.10      0  "
      ]
     },
     "execution_count": 3,
     "metadata": {},
     "output_type": "execute_result"
    }
   ],
   "source": [
    "data = data.rename(columns={'RowNumber':'row', 'CustomerId':'id', 'Surname':'surname', 'CreditScore':'credit_score', 'Geography':'geography',\n",
    "                   'Gender':'gender', 'Age':'age','Tenure':'tenure','Balance':'balance','NumOfProducts':'num_of_products',\n",
    "                   'HasCrCard':'credit_card', 'IsActiveMember':'is_active_member', 'EstimatedSalary':'salary', 'Exited':'churn'})\n",
    "data.head()"
   ]
  },
  {
   "cell_type": "markdown",
   "metadata": {},
   "source": [
    "Проверим пропуски."
   ]
  },
  {
   "cell_type": "code",
   "execution_count": 4,
   "metadata": {},
   "outputs": [
    {
     "data": {
      "text/plain": [
       "row                   0\n",
       "id                    0\n",
       "surname               0\n",
       "credit_score          0\n",
       "geography             0\n",
       "gender                0\n",
       "age                   0\n",
       "tenure              909\n",
       "balance               0\n",
       "num_of_products       0\n",
       "credit_card           0\n",
       "is_active_member      0\n",
       "salary                0\n",
       "churn                 0\n",
       "dtype: int64"
      ]
     },
     "execution_count": 4,
     "metadata": {},
     "output_type": "execute_result"
    }
   ],
   "source": [
    "data.isna().sum()"
   ]
  },
  {
   "cell_type": "markdown",
   "metadata": {},
   "source": [
    "Пропуски в столбце \"tenure\" - клиентский стаж. Столбец скорее всего важен для прогнозирования, поэтому заполнять его любыми значениями кажется нецелесообразным, а самих пропусков менее 10%, поэтому пренебрежем этими данными.\n",
    "\n",
    "Так же для исследования нам вряд ли понадобятся фамилии клиентов, id и номер строки, удалим и их."
   ]
  },
  {
   "cell_type": "code",
   "execution_count": 5,
   "metadata": {
    "scrolled": true
   },
   "outputs": [
    {
     "name": "stdout",
     "output_type": "stream",
     "text": [
      "<class 'pandas.core.frame.DataFrame'>\n",
      "Int64Index: 9091 entries, 0 to 9998\n",
      "Data columns (total 11 columns):\n",
      " #   Column            Non-Null Count  Dtype  \n",
      "---  ------            --------------  -----  \n",
      " 0   credit_score      9091 non-null   int64  \n",
      " 1   geography         9091 non-null   object \n",
      " 2   gender            9091 non-null   object \n",
      " 3   age               9091 non-null   int64  \n",
      " 4   tenure            9091 non-null   float64\n",
      " 5   balance           9091 non-null   float64\n",
      " 6   num_of_products   9091 non-null   int64  \n",
      " 7   credit_card       9091 non-null   int64  \n",
      " 8   is_active_member  9091 non-null   int64  \n",
      " 9   salary            9091 non-null   float64\n",
      " 10  churn             9091 non-null   int64  \n",
      "dtypes: float64(3), int64(6), object(2)\n",
      "memory usage: 852.3+ KB\n"
     ]
    },
    {
     "data": {
      "text/html": [
       "<div>\n",
       "<style scoped>\n",
       "    .dataframe tbody tr th:only-of-type {\n",
       "        vertical-align: middle;\n",
       "    }\n",
       "\n",
       "    .dataframe tbody tr th {\n",
       "        vertical-align: top;\n",
       "    }\n",
       "\n",
       "    .dataframe thead th {\n",
       "        text-align: right;\n",
       "    }\n",
       "</style>\n",
       "<table border=\"1\" class=\"dataframe\">\n",
       "  <thead>\n",
       "    <tr style=\"text-align: right;\">\n",
       "      <th></th>\n",
       "      <th>credit_score</th>\n",
       "      <th>geography</th>\n",
       "      <th>gender</th>\n",
       "      <th>age</th>\n",
       "      <th>tenure</th>\n",
       "      <th>balance</th>\n",
       "      <th>num_of_products</th>\n",
       "      <th>credit_card</th>\n",
       "      <th>is_active_member</th>\n",
       "      <th>salary</th>\n",
       "      <th>churn</th>\n",
       "    </tr>\n",
       "  </thead>\n",
       "  <tbody>\n",
       "    <tr>\n",
       "      <th>0</th>\n",
       "      <td>619</td>\n",
       "      <td>France</td>\n",
       "      <td>Female</td>\n",
       "      <td>42</td>\n",
       "      <td>2.0</td>\n",
       "      <td>0.00</td>\n",
       "      <td>1</td>\n",
       "      <td>1</td>\n",
       "      <td>1</td>\n",
       "      <td>101348.88</td>\n",
       "      <td>1</td>\n",
       "    </tr>\n",
       "    <tr>\n",
       "      <th>1</th>\n",
       "      <td>608</td>\n",
       "      <td>Spain</td>\n",
       "      <td>Female</td>\n",
       "      <td>41</td>\n",
       "      <td>1.0</td>\n",
       "      <td>83807.86</td>\n",
       "      <td>1</td>\n",
       "      <td>0</td>\n",
       "      <td>1</td>\n",
       "      <td>112542.58</td>\n",
       "      <td>0</td>\n",
       "    </tr>\n",
       "    <tr>\n",
       "      <th>2</th>\n",
       "      <td>502</td>\n",
       "      <td>France</td>\n",
       "      <td>Female</td>\n",
       "      <td>42</td>\n",
       "      <td>8.0</td>\n",
       "      <td>159660.80</td>\n",
       "      <td>3</td>\n",
       "      <td>1</td>\n",
       "      <td>0</td>\n",
       "      <td>113931.57</td>\n",
       "      <td>1</td>\n",
       "    </tr>\n",
       "    <tr>\n",
       "      <th>3</th>\n",
       "      <td>699</td>\n",
       "      <td>France</td>\n",
       "      <td>Female</td>\n",
       "      <td>39</td>\n",
       "      <td>1.0</td>\n",
       "      <td>0.00</td>\n",
       "      <td>2</td>\n",
       "      <td>0</td>\n",
       "      <td>0</td>\n",
       "      <td>93826.63</td>\n",
       "      <td>0</td>\n",
       "    </tr>\n",
       "    <tr>\n",
       "      <th>4</th>\n",
       "      <td>850</td>\n",
       "      <td>Spain</td>\n",
       "      <td>Female</td>\n",
       "      <td>43</td>\n",
       "      <td>2.0</td>\n",
       "      <td>125510.82</td>\n",
       "      <td>1</td>\n",
       "      <td>1</td>\n",
       "      <td>1</td>\n",
       "      <td>79084.10</td>\n",
       "      <td>0</td>\n",
       "    </tr>\n",
       "  </tbody>\n",
       "</table>\n",
       "</div>"
      ],
      "text/plain": [
       "   credit_score geography  gender  age  tenure    balance  num_of_products  \\\n",
       "0           619    France  Female   42     2.0       0.00                1   \n",
       "1           608     Spain  Female   41     1.0   83807.86                1   \n",
       "2           502    France  Female   42     8.0  159660.80                3   \n",
       "3           699    France  Female   39     1.0       0.00                2   \n",
       "4           850     Spain  Female   43     2.0  125510.82                1   \n",
       "\n",
       "   credit_card  is_active_member     salary  churn  \n",
       "0            1                 1  101348.88      1  \n",
       "1            0                 1  112542.58      0  \n",
       "2            1                 0  113931.57      1  \n",
       "3            0                 0   93826.63      0  \n",
       "4            1                 1   79084.10      0  "
      ]
     },
     "execution_count": 5,
     "metadata": {},
     "output_type": "execute_result"
    }
   ],
   "source": [
    "data = data.drop(['surname', 'id', 'row'], axis=1)\n",
    "data = data.dropna(subset=['tenure'])\n",
    "data.info()\n",
    "data.head()"
   ]
  },
  {
   "cell_type": "markdown",
   "metadata": {},
   "source": [
    "Проверим дубликаты."
   ]
  },
  {
   "cell_type": "code",
   "execution_count": 6,
   "metadata": {},
   "outputs": [
    {
     "data": {
      "text/plain": [
       "0"
      ]
     },
     "execution_count": 6,
     "metadata": {},
     "output_type": "execute_result"
    }
   ],
   "source": [
    "data.duplicated().sum()"
   ]
  },
  {
   "cell_type": "markdown",
   "metadata": {},
   "source": [
    "Дубликатов нет, идём дальше."
   ]
  },
  {
   "cell_type": "markdown",
   "metadata": {},
   "source": [
    "Нам необходимо преобразовать данные категориальные в данные числовые. У нас к категориальным данным относятся пол и география клиента. "
   ]
  },
  {
   "cell_type": "code",
   "execution_count": 7,
   "metadata": {
    "scrolled": true
   },
   "outputs": [
    {
     "name": "stdout",
     "output_type": "stream",
     "text": [
      "<class 'pandas.core.frame.DataFrame'>\n",
      "RangeIndex: 9091 entries, 0 to 9090\n",
      "Data columns (total 11 columns):\n",
      " #   Column            Non-Null Count  Dtype  \n",
      "---  ------            --------------  -----  \n",
      " 0   credit_score      9091 non-null   float64\n",
      " 1   geography         9091 non-null   float64\n",
      " 2   gender            9091 non-null   float64\n",
      " 3   age               9091 non-null   float64\n",
      " 4   tenure            9091 non-null   float64\n",
      " 5   balance           9091 non-null   float64\n",
      " 6   num_of_products   9091 non-null   float64\n",
      " 7   credit_card       9091 non-null   float64\n",
      " 8   is_active_member  9091 non-null   float64\n",
      " 9   salary            9091 non-null   float64\n",
      " 10  churn             9091 non-null   float64\n",
      "dtypes: float64(11)\n",
      "memory usage: 781.4 KB\n"
     ]
    },
    {
     "data": {
      "text/html": [
       "<div>\n",
       "<style scoped>\n",
       "    .dataframe tbody tr th:only-of-type {\n",
       "        vertical-align: middle;\n",
       "    }\n",
       "\n",
       "    .dataframe tbody tr th {\n",
       "        vertical-align: top;\n",
       "    }\n",
       "\n",
       "    .dataframe thead th {\n",
       "        text-align: right;\n",
       "    }\n",
       "</style>\n",
       "<table border=\"1\" class=\"dataframe\">\n",
       "  <thead>\n",
       "    <tr style=\"text-align: right;\">\n",
       "      <th></th>\n",
       "      <th>credit_score</th>\n",
       "      <th>geography</th>\n",
       "      <th>gender</th>\n",
       "      <th>age</th>\n",
       "      <th>tenure</th>\n",
       "      <th>balance</th>\n",
       "      <th>num_of_products</th>\n",
       "      <th>credit_card</th>\n",
       "      <th>is_active_member</th>\n",
       "      <th>salary</th>\n",
       "      <th>churn</th>\n",
       "    </tr>\n",
       "  </thead>\n",
       "  <tbody>\n",
       "    <tr>\n",
       "      <th>0</th>\n",
       "      <td>226.0</td>\n",
       "      <td>0.0</td>\n",
       "      <td>0.0</td>\n",
       "      <td>24.0</td>\n",
       "      <td>2.0</td>\n",
       "      <td>0.0</td>\n",
       "      <td>0.0</td>\n",
       "      <td>1.0</td>\n",
       "      <td>1.0</td>\n",
       "      <td>4609.0</td>\n",
       "      <td>1.0</td>\n",
       "    </tr>\n",
       "    <tr>\n",
       "      <th>1</th>\n",
       "      <td>215.0</td>\n",
       "      <td>2.0</td>\n",
       "      <td>0.0</td>\n",
       "      <td>23.0</td>\n",
       "      <td>1.0</td>\n",
       "      <td>679.0</td>\n",
       "      <td>0.0</td>\n",
       "      <td>0.0</td>\n",
       "      <td>1.0</td>\n",
       "      <td>5119.0</td>\n",
       "      <td>0.0</td>\n",
       "    </tr>\n",
       "    <tr>\n",
       "      <th>2</th>\n",
       "      <td>109.0</td>\n",
       "      <td>0.0</td>\n",
       "      <td>0.0</td>\n",
       "      <td>24.0</td>\n",
       "      <td>8.0</td>\n",
       "      <td>5277.0</td>\n",
       "      <td>2.0</td>\n",
       "      <td>1.0</td>\n",
       "      <td>0.0</td>\n",
       "      <td>5182.0</td>\n",
       "      <td>1.0</td>\n",
       "    </tr>\n",
       "    <tr>\n",
       "      <th>3</th>\n",
       "      <td>306.0</td>\n",
       "      <td>0.0</td>\n",
       "      <td>0.0</td>\n",
       "      <td>21.0</td>\n",
       "      <td>1.0</td>\n",
       "      <td>0.0</td>\n",
       "      <td>1.0</td>\n",
       "      <td>0.0</td>\n",
       "      <td>0.0</td>\n",
       "      <td>4274.0</td>\n",
       "      <td>0.0</td>\n",
       "    </tr>\n",
       "    <tr>\n",
       "      <th>4</th>\n",
       "      <td>457.0</td>\n",
       "      <td>2.0</td>\n",
       "      <td>0.0</td>\n",
       "      <td>25.0</td>\n",
       "      <td>2.0</td>\n",
       "      <td>3374.0</td>\n",
       "      <td>0.0</td>\n",
       "      <td>1.0</td>\n",
       "      <td>1.0</td>\n",
       "      <td>3559.0</td>\n",
       "      <td>0.0</td>\n",
       "    </tr>\n",
       "  </tbody>\n",
       "</table>\n",
       "</div>"
      ],
      "text/plain": [
       "   credit_score  geography  gender   age  tenure  balance  num_of_products  \\\n",
       "0         226.0        0.0     0.0  24.0     2.0      0.0              0.0   \n",
       "1         215.0        2.0     0.0  23.0     1.0    679.0              0.0   \n",
       "2         109.0        0.0     0.0  24.0     8.0   5277.0              2.0   \n",
       "3         306.0        0.0     0.0  21.0     1.0      0.0              1.0   \n",
       "4         457.0        2.0     0.0  25.0     2.0   3374.0              0.0   \n",
       "\n",
       "   credit_card  is_active_member  salary  churn  \n",
       "0          1.0               1.0  4609.0    1.0  \n",
       "1          0.0               1.0  5119.0    0.0  \n",
       "2          1.0               0.0  5182.0    1.0  \n",
       "3          0.0               0.0  4274.0    0.0  \n",
       "4          1.0               1.0  3559.0    0.0  "
      ]
     },
     "execution_count": 7,
     "metadata": {},
     "output_type": "execute_result"
    }
   ],
   "source": [
    "encoder = OrdinalEncoder()\n",
    "encoder.fit(data)\n",
    "data_ordinal = pd.DataFrame(encoder.fit_transform(data), columns=data.columns)\n",
    "data_ordinal.info()\n",
    "data_ordinal.head()"
   ]
  },
  {
   "cell_type": "markdown",
   "metadata": {},
   "source": [
    "Рассмотрим распределение значений целевого признака \"churn\"."
   ]
  },
  {
   "cell_type": "code",
   "execution_count": 8,
   "metadata": {},
   "outputs": [
    {
     "data": {
      "text/plain": [
       "0.0    7237\n",
       "1.0    1854\n",
       "Name: churn, dtype: int64"
      ]
     },
     "execution_count": 8,
     "metadata": {},
     "output_type": "execute_result"
    }
   ],
   "source": [
    "data_ordinal['churn'].value_counts()"
   ]
  },
  {
   "cell_type": "markdown",
   "metadata": {},
   "source": [
    "Очевиден дисбаланс признаков. Необходимо корректирование распределения."
   ]
  },
  {
   "cell_type": "markdown",
   "metadata": {},
   "source": [
    "**Итак:**\n",
    "\n",
    "1) Выполнено приведение названий столбцов к змеиному регистру;\n",
    "\n",
    "2) Обработаны пропуски;\n",
    "\n",
    "3) Подтверждено отсутствие явных дубликатов;\n",
    "\n",
    "4) Произведен перевод категориальных прзнаков в числовые;\n",
    "\n",
    "5) Обнаружен дисбаланс целевого признака, который необходимо будет учесть на этапе обучения модели."
   ]
  },
  {
   "cell_type": "markdown",
   "metadata": {},
   "source": [
    "## Исследование задачи"
   ]
  },
  {
   "cell_type": "markdown",
   "metadata": {},
   "source": [
    "Создаем переменные для хранения признаков и целевого признака."
   ]
  },
  {
   "cell_type": "code",
   "execution_count": 9,
   "metadata": {},
   "outputs": [
    {
     "name": "stdout",
     "output_type": "stream",
     "text": [
      "(5454, 10) (1819, 10) (1818, 10)\n"
     ]
    }
   ],
   "source": [
    "target = data_ordinal['churn']\n",
    "features = data_ordinal.drop(['churn'],axis=1)\n",
    "features_train, features_valid, target_train, target_valid = train_test_split(features, target, test_size=0.2, \n",
    "                                                                               random_state=1)\n",
    "features_train, features_test, target_train, target_test = train_test_split(features_train, target_train, \n",
    "                                                                            test_size = 0.25, random_state=1)\n",
    "print(features_train.shape, features_valid.shape, features_test.shape)"
   ]
  },
  {
   "cell_type": "markdown",
   "metadata": {},
   "source": [
    "Всё отлично: подготовлены тренировочная, валидационная и тестовая выборки."
   ]
  },
  {
   "cell_type": "markdown",
   "metadata": {},
   "source": [
    "Попробуем поучиться без балансировки."
   ]
  },
  {
   "cell_type": "code",
   "execution_count": 10,
   "metadata": {
    "scrolled": true
   },
   "outputs": [
    {
     "name": "stderr",
     "output_type": "stream",
     "text": [
      "  0%|          | 0/10 [00:00<?, ?it/s]"
     ]
    },
    {
     "name": "stdout",
     "output_type": "stream",
     "text": [
      "F1: 0.044 depth: 1 estimators: 22\n"
     ]
    },
    {
     "name": "stderr",
     "output_type": "stream",
     "text": [
      " 10%|█         | 1/10 [00:09<01:23,  9.33s/it]"
     ]
    },
    {
     "name": "stdout",
     "output_type": "stream",
     "text": [
      "F1: 0.1458 depth: 2 estimators: 1\n",
      "F1: 0.1645 depth: 2 estimators: 7\n",
      "F1: 0.1827 depth: 2 estimators: 8\n"
     ]
    },
    {
     "name": "stderr",
     "output_type": "stream",
     "text": [
      " 20%|██        | 2/10 [00:20<01:22, 10.37s/it]"
     ]
    },
    {
     "name": "stdout",
     "output_type": "stream",
     "text": [
      "F1: 0.3908 depth: 3 estimators: 1\n",
      "F1: 0.4562 depth: 3 estimators: 5\n"
     ]
    },
    {
     "name": "stderr",
     "output_type": "stream",
     "text": [
      " 30%|███       | 3/10 [00:33<01:21, 11.59s/it]"
     ]
    },
    {
     "name": "stdout",
     "output_type": "stream",
     "text": [
      "F1: 0.4932 depth: 4 estimators: 5\n",
      "F1: 0.5 depth: 4 estimators: 14\n"
     ]
    },
    {
     "name": "stderr",
     "output_type": "stream",
     "text": [
      " 40%|████      | 4/10 [00:48<01:17, 12.88s/it]"
     ]
    },
    {
     "name": "stdout",
     "output_type": "stream",
     "text": [
      "F1: 0.5135 depth: 5 estimators: 2\n",
      "F1: 0.5152 depth: 5 estimators: 18\n",
      "F1: 0.5201 depth: 5 estimators: 27\n"
     ]
    },
    {
     "name": "stderr",
     "output_type": "stream",
     "text": [
      " 50%|█████     | 5/10 [01:04<01:10, 14.19s/it]"
     ]
    },
    {
     "name": "stdout",
     "output_type": "stream",
     "text": [
      "F1: 0.5202 depth: 6 estimators: 7\n",
      "F1: 0.5209 depth: 6 estimators: 14\n",
      "F1: 0.5222 depth: 6 estimators: 74\n"
     ]
    },
    {
     "name": "stderr",
     "output_type": "stream",
     "text": [
      " 60%|██████    | 6/10 [01:22<01:01, 15.50s/it]"
     ]
    },
    {
     "name": "stdout",
     "output_type": "stream",
     "text": [
      "F1: 0.5343 depth: 7 estimators: 3\n",
      "F1: 0.5346 depth: 7 estimators: 15\n"
     ]
    },
    {
     "name": "stderr",
     "output_type": "stream",
     "text": [
      " 70%|███████   | 7/10 [01:42<00:50, 16.94s/it]"
     ]
    },
    {
     "name": "stdout",
     "output_type": "stream",
     "text": [
      "F1: 0.5461 depth: 8 estimators: 8\n"
     ]
    },
    {
     "name": "stderr",
     "output_type": "stream",
     "text": [
      " 80%|████████  | 8/10 [02:04<00:36, 18.33s/it]"
     ]
    },
    {
     "name": "stdout",
     "output_type": "stream",
     "text": [
      "F1: 0.5484 depth: 9 estimators: 17\n",
      "F1: 0.5488 depth: 9 estimators: 20\n",
      "F1: 0.5541 depth: 9 estimators: 22\n"
     ]
    },
    {
     "name": "stderr",
     "output_type": "stream",
     "text": [
      " 90%|█████████ | 9/10 [02:27<00:19, 19.90s/it]"
     ]
    },
    {
     "name": "stdout",
     "output_type": "stream",
     "text": [
      "F1: 0.5567 depth: 10 estimators: 20\n"
     ]
    },
    {
     "name": "stderr",
     "output_type": "stream",
     "text": [
      "100%|██████████| 10/10 [02:51<00:00, 17.18s/it]\n"
     ]
    }
   ],
   "source": [
    "from tqdm import tqdm # добавлено\n",
    "best_f1 = 0\n",
    "for depth in tqdm(range(1,11,1)):\n",
    "    for estimators in range(1,91,1):\n",
    "        model = RandomForestClassifier(random_state=1, max_depth=depth, n_estimators=estimators)\n",
    "        model.fit(features_train, target_train)\n",
    "        predicted_valid = model.predict(features_valid)\n",
    "        if f1_score(target_valid, predicted_valid) > best_f1:\n",
    "            best_f1 = f1_score(target_valid, predicted_valid)\n",
    "            best_depth = depth\n",
    "            best_estimators = estimators\n",
    "            \n",
    "            print(\"F1:\", round(f1_score(target_valid, predicted_valid), 4), \"depth:\", best_depth, \n",
    "                  \"estimators:\", best_estimators)        "
   ]
  },
  {
   "cell_type": "markdown",
   "metadata": {},
   "source": [
    "Наивысшая f1-мера = 0.56 была достигнута при высоте 10 и 20 деревьях случайного леса.\n",
    "\n",
    "Целевая мера 0.59 не была достигнута. Возможно, проблема кроется в дисбалансе классов. Поработаем над этим."
   ]
  },
  {
   "cell_type": "code",
   "execution_count": 11,
   "metadata": {},
   "outputs": [
    {
     "name": "stderr",
     "output_type": "stream",
     "text": [
      " 30%|███       | 6/20 [00:00<00:00, 57.65it/s]"
     ]
    },
    {
     "name": "stdout",
     "output_type": "stream",
     "text": [
      "F1: 0.4991 depth: 2\n",
      "F1: 0.5098 depth: 3\n",
      "F1: 0.5178 depth: 5\n",
      "F1: 0.531 depth: 6\n"
     ]
    },
    {
     "name": "stderr",
     "output_type": "stream",
     "text": [
      "100%|██████████| 20/20 [00:00<00:00, 40.94it/s]\n"
     ]
    }
   ],
   "source": [
    "best_f1 = 0\n",
    "for depth in tqdm(range(1,21,1)):\n",
    "    model = DecisionTreeClassifier(random_state=1, max_depth=depth, criterion='gini')\n",
    "    model.fit(features_train, target_train)\n",
    "    predicted_valid = model.predict(features_valid)\n",
    "    if f1_score(target_valid, predicted_valid) > best_f1:\n",
    "        best_f1 = f1_score(target_valid, predicted_valid)\n",
    "        best_depth = depth\n",
    "        print(\"F1:\", round(f1_score(target_valid, predicted_valid), 4), \"depth:\", best_depth)        "
   ]
  },
  {
   "cell_type": "markdown",
   "metadata": {},
   "source": [
    "## Борьба с дисбалансом"
   ]
  },
  {
   "cell_type": "markdown",
   "metadata": {},
   "source": [
    "Помня о дисблансе признаков, необходимо прибегнуть к одному из методов балансировки."
   ]
  },
  {
   "cell_type": "markdown",
   "metadata": {},
   "source": [
    "**Upsampling:**"
   ]
  },
  {
   "cell_type": "code",
   "execution_count": 12,
   "metadata": {},
   "outputs": [],
   "source": [
    "def upsample(features, target, repeat):\n",
    "    features_zeros = features[target == 0]\n",
    "    features_ones = features[target == 1]\n",
    "    target_zeros = target[target == 0]\n",
    "    target_ones = target[target == 1]\n",
    "\n",
    "    features_upsampled = pd.concat([features_zeros] + [features_ones] * repeat)\n",
    "    target_upsampled = pd.concat([target_zeros] + [target_ones] * repeat)\n",
    "    \n",
    "    features_upsampled, target_upsampled = shuffle(\n",
    "        features_upsampled, target_upsampled, random_state=1)\n",
    "    \n",
    "    return features_upsampled, target_upsampled\n",
    "\n",
    "features_upsampled, target_upsampled = upsample(features_train, target_train, 4)"
   ]
  },
  {
   "cell_type": "code",
   "execution_count": 13,
   "metadata": {
    "scrolled": true
   },
   "outputs": [
    {
     "name": "stderr",
     "output_type": "stream",
     "text": [
      "  0%|          | 0/10 [00:00<?, ?it/s]"
     ]
    },
    {
     "name": "stdout",
     "output_type": "stream",
     "text": [
      "F1: 0.4653 depth: 1 estimators: 1\n",
      "F1: 0.4689 depth: 1 estimators: 3\n",
      "F1: 0.4753 depth: 1 estimators: 6\n",
      "F1: 0.4861 depth: 1 estimators: 7\n",
      "F1: 0.5034 depth: 1 estimators: 8\n",
      "F1: 0.5157 depth: 1 estimators: 10\n"
     ]
    },
    {
     "name": "stderr",
     "output_type": "stream",
     "text": [
      " 10%|█         | 1/10 [00:12<01:50, 12.27s/it]"
     ]
    },
    {
     "name": "stdout",
     "output_type": "stream",
     "text": [
      "F1: 0.5208 depth: 2 estimators: 6\n",
      "F1: 0.5479 depth: 2 estimators: 7\n",
      "F1: 0.5581 depth: 2 estimators: 8\n",
      "F1: 0.5644 depth: 2 estimators: 10\n",
      "F1: 0.5677 depth: 2 estimators: 20\n"
     ]
    },
    {
     "name": "stderr",
     "output_type": "stream",
     "text": [
      " 20%|██        | 2/10 [00:27<01:50, 13.75s/it]"
     ]
    },
    {
     "name": "stdout",
     "output_type": "stream",
     "text": [
      "F1: 0.5738 depth: 3 estimators: 6\n",
      "F1: 0.5741 depth: 3 estimators: 16\n",
      "F1: 0.5778 depth: 3 estimators: 17\n",
      "F1: 0.5789 depth: 3 estimators: 22\n"
     ]
    },
    {
     "name": "stderr",
     "output_type": "stream",
     "text": [
      " 40%|████      | 4/10 [01:04<01:44, 17.35s/it]"
     ]
    },
    {
     "name": "stdout",
     "output_type": "stream",
     "text": [
      "F1: 0.5794 depth: 5 estimators: 6\n",
      "F1: 0.5804 depth: 5 estimators: 13\n"
     ]
    },
    {
     "name": "stderr",
     "output_type": "stream",
     "text": [
      " 70%|███████   | 7/10 [02:18<01:08, 22.94s/it]"
     ]
    },
    {
     "name": "stdout",
     "output_type": "stream",
     "text": [
      "F1: 0.5815 depth: 8 estimators: 15\n",
      "F1: 0.5854 depth: 8 estimators: 16\n",
      "F1: 0.588 depth: 8 estimators: 30\n",
      "F1: 0.5909 depth: 8 estimators: 37\n",
      "F1: 0.5939 depth: 8 estimators: 38\n",
      "F1: 0.5962 depth: 8 estimators: 63\n",
      "F1: 0.5964 depth: 8 estimators: 64\n",
      "F1: 0.5968 depth: 8 estimators: 81\n"
     ]
    },
    {
     "name": "stderr",
     "output_type": "stream",
     "text": [
      "100%|██████████| 10/10 [03:53<00:00, 23.31s/it]\n"
     ]
    }
   ],
   "source": [
    "best_f1 = 0\n",
    "for depth in tqdm(range(1,11,1)):\n",
    "    for estimators in range(1,91,1):\n",
    "        model = RandomForestClassifier(random_state=1, max_depth=depth, n_estimators=estimators)\n",
    "        model.fit(features_upsampled, target_upsampled)\n",
    "        predicted_valid = model.predict(features_valid)\n",
    "        if f1_score(target_valid, predicted_valid) > best_f1:\n",
    "            best_f1 = f1_score(target_valid, predicted_valid)\n",
    "            best_depth = depth\n",
    "            best_estimators = estimators\n",
    "            \n",
    "            print(\"F1:\", round(f1_score(target_valid, predicted_valid), 4), \"depth:\", best_depth, \n",
    "                  \"estimators:\", best_estimators)        "
   ]
  },
  {
   "cell_type": "markdown",
   "metadata": {},
   "source": [
    "Была достигнута f1-мера = 0.6 при высоте 8 и 81 дереве случайного леса. \n",
    "\n",
    "Целевое значение f1-меры в 0.59 достигнуто."
   ]
  },
  {
   "cell_type": "markdown",
   "metadata": {},
   "source": [
    "**Downsampling:**"
   ]
  },
  {
   "cell_type": "code",
   "execution_count": 14,
   "metadata": {},
   "outputs": [],
   "source": [
    "def downsample(features, target, fraction):\n",
    "    features_zeros = features[target == 0]\n",
    "    features_ones = features[target == 1]\n",
    "    target_zeros = target[target == 0]\n",
    "    target_ones = target[target == 1]\n",
    "\n",
    "    features_downsampled = pd.concat(\n",
    "        [features_zeros.sample(frac=fraction, random_state=1)] + [features_ones])\n",
    "    target_downsampled = pd.concat(\n",
    "        [target_zeros.sample(frac=fraction, random_state=1)] + [target_ones])\n",
    "    \n",
    "    features_downsampled, target_downsampled = shuffle(\n",
    "        features_downsampled, target_downsampled, random_state=1)\n",
    "    \n",
    "    return features_downsampled, target_downsampled\n",
    "\n",
    "features_downsampled, target_downsampled = downsample(features_train, target_train, 0.25)"
   ]
  },
  {
   "cell_type": "code",
   "execution_count": 15,
   "metadata": {},
   "outputs": [
    {
     "name": "stdout",
     "output_type": "stream",
     "text": [
      "(2202, 10) (2202,)\n"
     ]
    }
   ],
   "source": [
    "print(features_downsampled.shape, target_downsampled.shape)"
   ]
  },
  {
   "cell_type": "code",
   "execution_count": 16,
   "metadata": {
    "scrolled": true
   },
   "outputs": [
    {
     "name": "stderr",
     "output_type": "stream",
     "text": [
      "  0%|          | 0/10 [00:00<?, ?it/s]"
     ]
    },
    {
     "name": "stdout",
     "output_type": "stream",
     "text": [
      "F1: 0.4662 depth: 1 estimators: 1\n",
      "F1: 0.4807 depth: 1 estimators: 4\n",
      "F1: 0.5214 depth: 1 estimators: 7\n"
     ]
    },
    {
     "name": "stderr",
     "output_type": "stream",
     "text": [
      " 10%|█         | 1/10 [00:07<01:07,  7.45s/it]"
     ]
    },
    {
     "name": "stdout",
     "output_type": "stream",
     "text": [
      "F1: 0.5265 depth: 2 estimators: 7\n",
      "F1: 0.5309 depth: 2 estimators: 8\n",
      "F1: 0.5517 depth: 2 estimators: 9\n",
      "F1: 0.5579 depth: 2 estimators: 16\n",
      "F1: 0.5602 depth: 2 estimators: 19\n",
      "F1: 0.5738 depth: 2 estimators: 20\n",
      "F1: 0.5754 depth: 2 estimators: 21\n"
     ]
    },
    {
     "name": "stderr",
     "output_type": "stream",
     "text": [
      " 20%|██        | 2/10 [00:15<01:02,  7.79s/it]"
     ]
    },
    {
     "name": "stdout",
     "output_type": "stream",
     "text": [
      "F1: 0.5825 depth: 3 estimators: 26\n"
     ]
    },
    {
     "name": "stderr",
     "output_type": "stream",
     "text": [
      " 30%|███       | 3/10 [00:24<00:57,  8.21s/it]"
     ]
    },
    {
     "name": "stdout",
     "output_type": "stream",
     "text": [
      "F1: 0.5859 depth: 4 estimators: 4\n"
     ]
    },
    {
     "name": "stderr",
     "output_type": "stream",
     "text": [
      " 60%|██████    | 6/10 [00:55<00:39,  9.87s/it]"
     ]
    },
    {
     "name": "stdout",
     "output_type": "stream",
     "text": [
      "F1: 0.5864 depth: 7 estimators: 42\n",
      "F1: 0.587 depth: 7 estimators: 44\n",
      "F1: 0.5875 depth: 7 estimators: 47\n",
      "F1: 0.5891 depth: 7 estimators: 49\n",
      "F1: 0.5897 depth: 7 estimators: 53\n"
     ]
    },
    {
     "name": "stderr",
     "output_type": "stream",
     "text": [
      "100%|██████████| 10/10 [01:45<00:00, 10.58s/it]\n"
     ]
    }
   ],
   "source": [
    "from tqdm import tqdm # добавлено\n",
    "best_f1 = 0\n",
    "for depth in tqdm(range(1,11,1)):\n",
    "    for estimators in range(1,91,1):\n",
    "        model = RandomForestClassifier(random_state=1, max_depth=depth, n_estimators=estimators)\n",
    "        model.fit(features_downsampled, target_downsampled)\n",
    "        predicted_valid = model.predict(features_valid)\n",
    "        if f1_score(target_valid, predicted_valid) > best_f1:\n",
    "            best_f1 = f1_score(target_valid, predicted_valid)\n",
    "            best_depth = depth\n",
    "            best_estimators = estimators\n",
    "            \n",
    "            print(\"F1:\", round(f1_score(target_valid, predicted_valid), 4), \"depth:\", best_depth, \n",
    "                  \"estimators:\", best_estimators)       "
   ]
  },
  {
   "cell_type": "markdown",
   "metadata": {},
   "source": [
    "Downsampling себя не оправдал - используем upsamplig."
   ]
  },
  {
   "cell_type": "markdown",
   "metadata": {},
   "source": [
    "## Тестирование модели"
   ]
  },
  {
   "cell_type": "code",
   "execution_count": 17,
   "metadata": {
    "scrolled": true
   },
   "outputs": [
    {
     "name": "stdout",
     "output_type": "stream",
     "text": [
      "F1: 0.6127\n"
     ]
    }
   ],
   "source": [
    "model = RandomForestClassifier(random_state=1, max_depth=8, n_estimators=81)\n",
    "model.fit(features_upsampled, target_upsampled)\n",
    "predicted_test = model.predict(features_test)\n",
    "print(\"F1:\", round(f1_score(target_test, predicted_test), 4))"
   ]
  },
  {
   "cell_type": "markdown",
   "metadata": {},
   "source": [
    "На тестовой выборке достигнута f1-мера 0.61"
   ]
  },
  {
   "cell_type": "markdown",
   "metadata": {},
   "source": [
    "**ROC-кривая**"
   ]
  },
  {
   "cell_type": "code",
   "execution_count": 18,
   "metadata": {},
   "outputs": [
    {
     "data": {
      "image/png": "[encoded data removed]",
      "text/plain": [
       "<Figure size 432x288 with 1 Axes>"
      ]
     },
     "metadata": {
      "needs_background": "light"
     },
     "output_type": "display_data"
    },
    {
     "data": {
      "image/png": "[encoded data removed]",
      "text/plain": [
       "<Figure size 432x288 with 1 Axes>"
      ]
     },
     "metadata": {
      "needs_background": "light"
     },
     "output_type": "display_data"
    }
   ],
   "source": [
    "probabilities_test = model.predict_proba(features_test)\n",
    "probabilities_one_test = probabilities_test[:, 1]\n",
    "\n",
    "\n",
    "fpr, tpr, thresholds = roc_curve(target_test, probabilities_one_test)\n",
    "\n",
    "plt.plot([0, 1], [0, 1], linestyle='--')\n",
    "plt.figure()\n",
    "plt.plot(fpr, tpr)\n",
    "plt.xlim([0.0, 1.0])\n",
    "plt.ylim([0.0, 1.0])\n",
    "plt.xlabel('False Positive Rate')\n",
    "plt.ylabel('True Positive Rate')\n",
    "plt.title('ROC-кривая')\n",
    "plt.show()"
   ]
  },
  {
   "cell_type": "code",
   "execution_count": 19,
   "metadata": {},
   "outputs": [
    {
     "data": {
      "text/plain": [
       "0.8612967571920065"
      ]
     },
     "execution_count": 19,
     "metadata": {},
     "output_type": "execute_result"
    }
   ],
   "source": [
    "probabilities_test = model.predict_proba(features_test)\n",
    "probabilities_one_test = probabilities_test[:, 1]\n",
    "\n",
    "auc_roc = roc_auc_score(target_test,probabilities_one_test) \n",
    "auc_roc"
   ]
  },
  {
   "cell_type": "markdown",
   "metadata": {},
   "source": [
    "Мы исследовали AUC-ROC метрику и получили результат 0.86 - значительно выше случайного предсказания в 0.5. "
   ]
  },
  {
   "cell_type": "markdown",
   "metadata": {},
   "source": [
    "Проверим напоследок все те же меры и показатели на модели-пустышке:"
   ]
  },
  {
   "cell_type": "code",
   "execution_count": 20,
   "metadata": {},
   "outputs": [
    {
     "data": {
      "text/plain": [
       "0.3458"
      ]
     },
     "execution_count": 20,
     "metadata": {},
     "output_type": "execute_result"
    }
   ],
   "source": [
    "dummy_model = DummyClassifier(strategy='constant', constant=1)\n",
    "dummy_model.fit(features_upsampled, target_upsampled)\n",
    "round(f1_score(dummy_model.predict(features_test), target_test), 4)"
   ]
  },
  {
   "cell_type": "markdown",
   "metadata": {},
   "source": [
    "**Выводы:**\n",
    "\n",
    "1) Проведена предобработка данных: названия, пропуски, дубликаты, категории в числа;\n",
    "\n",
    "2) Отработана модель случайного леса без балансировки классов;\n",
    "\n",
    "3) Сбалансированы классы c помощью upsampling, подобраны наилучшие гиперпараметры случайного леса;\n",
    "\n",
    "4) На тестовой выборке достигнута f1-мера 0.61;\n",
    "\n",
    "5) Исследована метриа AUC-ROC, которая продемонстрировала значительное превышения случайной классификации.\n",
    "\n",
    "6) Глупая моделька справляется с задачей значительно хуже нашей"
   ]
  },
  {
   "cell_type": "markdown",
   "metadata": {},
   "source": [
    "## Чек-лист готовности проекта"
   ]
  },
  {
   "cell_type": "markdown",
   "metadata": {},
   "source": [
    "Поставьте 'x' в выполненных пунктах. Далее нажмите Shift+Enter."
   ]
  },
  {
   "cell_type": "markdown",
   "metadata": {},
   "source": [
    "- [x]  Jupyter Notebook открыт\n",
    "- [x]  Весь код выполняется без ошибок\n",
    "- [x]  Ячейки с кодом расположены в порядке исполнения\n",
    "- [x]  Выполнен шаг 1: данные подготовлены\n",
    "- [x]  Выполнен шаг 2: задача исследована\n",
    "    - [x]  Исследован баланс классов\n",
    "    - [x]  Изучены модели без учёта дисбаланса\n",
    "    - [x]  Написаны выводы по результатам исследования\n",
    "- [x]  Выполнен шаг 3: учтён дисбаланс\n",
    "    - [x]  Применено несколько способов борьбы с дисбалансом\n",
    "    - [x]  Написаны выводы по результатам исследования\n",
    "- [x]  Выполнен шаг 4: проведено тестирование\n",
    "- [x]  Удалось достичь *F1*-меры не менее 0.59\n",
    "- [x]  Исследована метрика *AUC-ROC*"
   ]
  }
 ],
 "metadata": {
  "ExecuteTimeLog": [
   {
    "duration": 3,
    "start_time": "2023-04-03T06:41:02.340Z"
   },
   {
    "duration": 100,
    "start_time": "2023-04-03T06:41:19.718Z"
   },
   {
    "duration": 55,
    "start_time": "2023-04-03T06:41:32.129Z"
   },
   {
    "duration": 52,
    "start_time": "2023-04-03T06:41:38.910Z"
   },
   {
    "duration": 55,
    "start_time": "2023-04-03T06:41:52.610Z"
   },
   {
    "duration": 8,
    "start_time": "2023-04-03T06:47:21.243Z"
   },
   {
    "duration": 22,
    "start_time": "2023-04-03T06:47:35.335Z"
   },
   {
    "duration": 17,
    "start_time": "2023-04-03T06:48:10.272Z"
   },
   {
    "duration": 446,
    "start_time": "2023-04-03T06:48:12.790Z"
   },
   {
    "duration": 18,
    "start_time": "2023-04-03T06:48:20.634Z"
   },
   {
    "duration": 24,
    "start_time": "2023-04-03T06:48:32.148Z"
   },
   {
    "duration": 15,
    "start_time": "2023-04-03T06:49:04.905Z"
   },
   {
    "duration": 71,
    "start_time": "2023-04-03T06:49:30.780Z"
   },
   {
    "duration": 19,
    "start_time": "2023-04-03T06:49:35.138Z"
   },
   {
    "duration": 14,
    "start_time": "2023-04-03T06:49:47.082Z"
   },
   {
    "duration": 14,
    "start_time": "2023-04-03T06:49:54.724Z"
   },
   {
    "duration": 3,
    "start_time": "2023-04-03T06:50:25.757Z"
   },
   {
    "duration": 58,
    "start_time": "2023-04-03T06:50:26.449Z"
   },
   {
    "duration": 14,
    "start_time": "2023-04-03T06:50:27.055Z"
   },
   {
    "duration": 8,
    "start_time": "2023-04-03T06:51:59.622Z"
   },
   {
    "duration": 8,
    "start_time": "2023-04-03T06:56:05.004Z"
   },
   {
    "duration": 4,
    "start_time": "2023-04-03T06:56:13.884Z"
   },
   {
    "duration": 14,
    "start_time": "2023-04-03T06:56:51.205Z"
   },
   {
    "duration": 3,
    "start_time": "2023-04-03T06:56:59.420Z"
   },
   {
    "duration": 64,
    "start_time": "2023-04-03T06:56:59.971Z"
   },
   {
    "duration": 14,
    "start_time": "2023-04-03T06:57:00.549Z"
   },
   {
    "duration": 6,
    "start_time": "2023-04-03T06:57:01.418Z"
   },
   {
    "duration": 10,
    "start_time": "2023-04-03T06:57:02.636Z"
   },
   {
    "duration": 22,
    "start_time": "2023-04-03T06:57:10.625Z"
   },
   {
    "duration": 13,
    "start_time": "2023-04-03T06:57:37.839Z"
   },
   {
    "duration": 378,
    "start_time": "2023-04-03T06:57:52.275Z"
   },
   {
    "duration": 58,
    "start_time": "2023-04-03T06:57:52.655Z"
   },
   {
    "duration": 13,
    "start_time": "2023-04-03T06:57:52.715Z"
   },
   {
    "duration": 19,
    "start_time": "2023-04-03T06:57:52.729Z"
   },
   {
    "duration": 71,
    "start_time": "2023-04-03T06:57:52.749Z"
   },
   {
    "duration": 11,
    "start_time": "2023-04-03T06:58:05.391Z"
   },
   {
    "duration": 406,
    "start_time": "2023-04-03T06:58:19.447Z"
   },
   {
    "duration": 63,
    "start_time": "2023-04-03T06:58:19.855Z"
   },
   {
    "duration": 15,
    "start_time": "2023-04-03T06:58:19.920Z"
   },
   {
    "duration": 16,
    "start_time": "2023-04-03T06:58:19.937Z"
   },
   {
    "duration": 80,
    "start_time": "2023-04-03T06:58:19.955Z"
   },
   {
    "duration": 15,
    "start_time": "2023-04-03T06:58:58.326Z"
   },
   {
    "duration": 390,
    "start_time": "2023-04-03T06:59:04.869Z"
   },
   {
    "duration": 59,
    "start_time": "2023-04-03T06:59:05.261Z"
   },
   {
    "duration": 13,
    "start_time": "2023-04-03T06:59:05.321Z"
   },
   {
    "duration": 21,
    "start_time": "2023-04-03T06:59:05.336Z"
   },
   {
    "duration": 27,
    "start_time": "2023-04-03T06:59:05.359Z"
   },
   {
    "duration": 80,
    "start_time": "2023-04-03T06:59:19.745Z"
   },
   {
    "duration": 346,
    "start_time": "2023-04-03T06:59:28.482Z"
   },
   {
    "duration": 59,
    "start_time": "2023-04-03T06:59:28.830Z"
   },
   {
    "duration": 12,
    "start_time": "2023-04-03T06:59:28.890Z"
   },
   {
    "duration": 6,
    "start_time": "2023-04-03T06:59:28.904Z"
   },
   {
    "duration": 28,
    "start_time": "2023-04-03T06:59:28.912Z"
   },
   {
    "duration": 13,
    "start_time": "2023-04-03T07:00:09.852Z"
   },
   {
    "duration": 35,
    "start_time": "2023-04-03T07:06:00.571Z"
   },
   {
    "duration": 23,
    "start_time": "2023-04-03T07:06:39.673Z"
   },
   {
    "duration": 18,
    "start_time": "2023-04-03T07:08:13.744Z"
   },
   {
    "duration": 4,
    "start_time": "2023-04-03T07:08:25.228Z"
   },
   {
    "duration": 11,
    "start_time": "2023-04-03T07:08:30.713Z"
   },
   {
    "duration": 10,
    "start_time": "2023-04-03T07:08:40.086Z"
   },
   {
    "duration": 12,
    "start_time": "2023-04-03T07:08:41.443Z"
   },
   {
    "duration": 16,
    "start_time": "2023-04-03T07:08:58.696Z"
   },
   {
    "duration": 5,
    "start_time": "2023-04-03T07:11:43.327Z"
   },
   {
    "duration": 4,
    "start_time": "2023-04-03T07:12:38.417Z"
   },
   {
    "duration": 955,
    "start_time": "2023-04-03T07:12:45.610Z"
   },
   {
    "duration": 373,
    "start_time": "2023-04-03T07:13:01.396Z"
   },
   {
    "duration": 60,
    "start_time": "2023-04-03T07:13:01.770Z"
   },
   {
    "duration": 12,
    "start_time": "2023-04-03T07:13:01.832Z"
   },
   {
    "duration": 19,
    "start_time": "2023-04-03T07:13:01.846Z"
   },
   {
    "duration": 65,
    "start_time": "2023-04-03T07:13:01.867Z"
   },
   {
    "duration": 17,
    "start_time": "2023-04-03T07:13:01.933Z"
   },
   {
    "duration": 47,
    "start_time": "2023-04-03T07:13:01.951Z"
   },
   {
    "duration": 10,
    "start_time": "2023-04-03T07:13:02.000Z"
   },
   {
    "duration": 120,
    "start_time": "2023-04-03T07:13:02.011Z"
   },
   {
    "duration": 1065,
    "start_time": "2023-04-03T07:13:34.545Z"
   },
   {
    "duration": 396,
    "start_time": "2023-04-03T07:13:42.633Z"
   },
   {
    "duration": 58,
    "start_time": "2023-04-03T07:13:43.030Z"
   },
   {
    "duration": 13,
    "start_time": "2023-04-03T07:13:43.089Z"
   },
   {
    "duration": 7,
    "start_time": "2023-04-03T07:13:43.104Z"
   },
   {
    "duration": 29,
    "start_time": "2023-04-03T07:13:43.112Z"
   },
   {
    "duration": 10,
    "start_time": "2023-04-03T07:13:43.142Z"
   },
   {
    "duration": 18,
    "start_time": "2023-04-03T07:13:43.154Z"
   },
   {
    "duration": 5,
    "start_time": "2023-04-03T07:13:43.174Z"
   },
   {
    "duration": 6,
    "start_time": "2023-04-03T07:13:43.180Z"
   },
   {
    "duration": 718,
    "start_time": "2023-04-03T07:43:41.108Z"
   },
   {
    "duration": 3,
    "start_time": "2023-04-03T07:43:43.951Z"
   },
   {
    "duration": 19,
    "start_time": "2023-04-03T07:45:35.131Z"
   },
   {
    "duration": 9,
    "start_time": "2023-04-03T07:48:11.311Z"
   },
   {
    "duration": 13,
    "start_time": "2023-04-03T07:48:41.407Z"
   },
   {
    "duration": 11,
    "start_time": "2023-04-03T07:49:12.451Z"
   },
   {
    "duration": 331,
    "start_time": "2023-04-03T07:54:57.895Z"
   },
   {
    "duration": 3,
    "start_time": "2023-04-03T07:55:14.463Z"
   },
   {
    "duration": 64,
    "start_time": "2023-04-03T07:55:17.439Z"
   },
   {
    "duration": 458,
    "start_time": "2023-04-03T07:55:29.703Z"
   },
   {
    "duration": 11,
    "start_time": "2023-04-03T07:55:34.925Z"
   },
   {
    "duration": 61,
    "start_time": "2023-04-03T07:55:37.067Z"
   },
   {
    "duration": 9,
    "start_time": "2023-04-03T08:01:46.011Z"
   },
   {
    "duration": 29,
    "start_time": "2023-04-03T08:01:52.556Z"
   },
   {
    "duration": 424,
    "start_time": "2023-04-03T08:01:58.083Z"
   },
   {
    "duration": 18131,
    "start_time": "2023-04-03T08:06:44.740Z"
   },
   {
    "duration": 8083,
    "start_time": "2023-04-03T08:07:15.618Z"
   },
   {
    "duration": 38,
    "start_time": "2023-04-03T08:10:11.963Z"
   },
   {
    "duration": 14,
    "start_time": "2023-04-03T08:10:20.942Z"
   },
   {
    "duration": 568811,
    "start_time": "2023-04-03T08:10:48.355Z"
   },
   {
    "duration": 2,
    "start_time": "2023-04-03T08:21:37.897Z"
   },
   {
    "duration": 2,
    "start_time": "2023-04-03T08:22:12.592Z"
   },
   {
    "duration": 79,
    "start_time": "2023-04-03T08:24:36.000Z"
   },
   {
    "duration": 40,
    "start_time": "2023-04-03T08:24:46.786Z"
   },
   {
    "duration": 1166,
    "start_time": "2023-04-03T08:25:03.816Z"
   },
   {
    "duration": 79,
    "start_time": "2023-04-03T08:25:04.984Z"
   },
   {
    "duration": 17,
    "start_time": "2023-04-03T08:25:05.068Z"
   },
   {
    "duration": 12,
    "start_time": "2023-04-03T08:25:05.087Z"
   },
   {
    "duration": 63,
    "start_time": "2023-04-03T08:25:05.101Z"
   },
   {
    "duration": 11,
    "start_time": "2023-04-03T08:25:05.166Z"
   },
   {
    "duration": 70,
    "start_time": "2023-04-03T08:25:05.179Z"
   },
   {
    "duration": 11,
    "start_time": "2023-04-03T08:25:05.251Z"
   },
   {
    "duration": 21,
    "start_time": "2023-04-03T08:25:05.265Z"
   },
   {
    "duration": 131,
    "start_time": "2023-04-03T08:25:05.288Z"
   },
   {
    "duration": 0,
    "start_time": "2023-04-03T08:25:05.421Z"
   },
   {
    "duration": 3,
    "start_time": "2023-04-03T08:25:23.954Z"
   },
   {
    "duration": 4,
    "start_time": "2023-04-03T08:56:03.204Z"
   },
   {
    "duration": 20,
    "start_time": "2023-04-03T08:59:23.486Z"
   },
   {
    "duration": 4,
    "start_time": "2023-04-03T08:59:45.984Z"
   },
   {
    "duration": 41,
    "start_time": "2023-04-03T08:59:51.882Z"
   },
   {
    "duration": 1153,
    "start_time": "2023-04-03T09:00:04.755Z"
   },
   {
    "duration": 81,
    "start_time": "2023-04-03T09:00:05.910Z"
   },
   {
    "duration": 15,
    "start_time": "2023-04-03T09:00:05.995Z"
   },
   {
    "duration": 13,
    "start_time": "2023-04-03T09:00:06.012Z"
   },
   {
    "duration": 34,
    "start_time": "2023-04-03T09:00:06.042Z"
   },
   {
    "duration": 12,
    "start_time": "2023-04-03T09:00:06.078Z"
   },
   {
    "duration": 63,
    "start_time": "2023-04-03T09:00:06.092Z"
   },
   {
    "duration": 6,
    "start_time": "2023-04-03T09:00:06.156Z"
   },
   {
    "duration": 25,
    "start_time": "2023-04-03T09:00:06.164Z"
   },
   {
    "duration": 167,
    "start_time": "2023-04-03T09:00:06.192Z"
   },
   {
    "duration": 0,
    "start_time": "2023-04-03T09:00:06.361Z"
   },
   {
    "duration": 11,
    "start_time": "2023-04-03T09:02:01.457Z"
   },
   {
    "duration": 124,
    "start_time": "2023-04-03T09:02:02.729Z"
   },
   {
    "duration": 843310,
    "start_time": "2023-04-03T09:02:07.951Z"
   },
   {
    "duration": 13,
    "start_time": "2023-04-03T09:16:11.263Z"
   },
   {
    "duration": 108,
    "start_time": "2023-04-03T09:17:44.837Z"
   },
   {
    "duration": 3,
    "start_time": "2023-04-03T09:17:59.670Z"
   },
   {
    "duration": 94,
    "start_time": "2023-04-03T09:18:04.167Z"
   },
   {
    "duration": 6,
    "start_time": "2023-04-03T09:18:15.959Z"
   },
   {
    "duration": 139,
    "start_time": "2023-04-03T09:18:21.841Z"
   },
   {
    "duration": 3,
    "start_time": "2023-04-03T09:18:32.112Z"
   },
   {
    "duration": 233,
    "start_time": "2023-04-03T09:18:36.754Z"
   },
   {
    "duration": 323,
    "start_time": "2023-04-03T09:18:48.638Z"
   },
   {
    "duration": 320,
    "start_time": "2023-04-03T09:19:33.061Z"
   },
   {
    "duration": 350,
    "start_time": "2023-04-03T09:19:56.284Z"
   },
   {
    "duration": 466,
    "start_time": "2023-04-03T09:20:04.990Z"
   },
   {
    "duration": 433,
    "start_time": "2023-04-03T09:20:16.301Z"
   },
   {
    "duration": 457,
    "start_time": "2023-04-03T09:21:02.210Z"
   },
   {
    "duration": 421,
    "start_time": "2023-04-03T09:21:15.284Z"
   },
   {
    "duration": 424,
    "start_time": "2023-04-03T09:22:30.272Z"
   },
   {
    "duration": 16,
    "start_time": "2023-04-03T09:24:07.763Z"
   },
   {
    "duration": 3,
    "start_time": "2023-04-03T09:24:15.198Z"
   },
   {
    "duration": 57,
    "start_time": "2023-04-03T09:24:16.018Z"
   },
   {
    "duration": 13,
    "start_time": "2023-04-03T09:24:17.699Z"
   },
   {
    "duration": 6,
    "start_time": "2023-04-03T09:24:19.768Z"
   },
   {
    "duration": 36,
    "start_time": "2023-04-03T09:24:21.032Z"
   },
   {
    "duration": 15,
    "start_time": "2023-04-03T09:24:30.653Z"
   },
   {
    "duration": 52,
    "start_time": "2023-04-03T09:24:32.538Z"
   },
   {
    "duration": 47,
    "start_time": "2023-04-03T09:24:40.998Z"
   },
   {
    "duration": 49,
    "start_time": "2023-04-03T09:24:52.219Z"
   },
   {
    "duration": 6,
    "start_time": "2023-04-03T09:25:03.967Z"
   },
   {
    "duration": 9,
    "start_time": "2023-04-03T09:25:14.082Z"
   },
   {
    "duration": 9,
    "start_time": "2023-04-03T09:25:41.908Z"
   },
   {
    "duration": 712694,
    "start_time": "2023-04-03T09:26:04.423Z"
   },
   {
    "duration": 389,
    "start_time": "2023-04-03T09:37:57.120Z"
   },
   {
    "duration": 176099,
    "start_time": "2023-04-03T09:41:14.175Z"
   },
   {
    "duration": 10,
    "start_time": "2023-04-03T09:45:26.718Z"
   },
   {
    "duration": 590,
    "start_time": "2023-04-03T09:48:08.005Z"
   },
   {
    "duration": 601,
    "start_time": "2023-04-03T09:48:15.060Z"
   },
   {
    "duration": 506,
    "start_time": "2023-04-03T09:49:44.184Z"
   },
   {
    "duration": 58,
    "start_time": "2023-04-03T09:51:13.227Z"
   },
   {
    "duration": 31,
    "start_time": "2023-04-03T09:51:33.361Z"
   },
   {
    "duration": 33,
    "start_time": "2023-04-03T09:52:28.695Z"
   },
   {
    "duration": 12,
    "start_time": "2023-04-03T09:52:41.938Z"
   },
   {
    "duration": 225,
    "start_time": "2023-04-03T09:52:47.983Z"
   },
   {
    "duration": 43,
    "start_time": "2023-04-03T09:52:56.528Z"
   },
   {
    "duration": 36,
    "start_time": "2023-04-03T09:53:54.192Z"
   },
   {
    "duration": 1629,
    "start_time": "2023-04-03T10:09:53.970Z"
   },
   {
    "duration": 72,
    "start_time": "2023-04-03T10:09:55.601Z"
   },
   {
    "duration": 14,
    "start_time": "2023-04-03T10:09:55.680Z"
   },
   {
    "duration": 11,
    "start_time": "2023-04-03T10:09:55.696Z"
   },
   {
    "duration": 48,
    "start_time": "2023-04-03T10:09:55.709Z"
   },
   {
    "duration": 15,
    "start_time": "2023-04-03T10:09:55.758Z"
   },
   {
    "duration": 46,
    "start_time": "2023-04-03T10:09:55.774Z"
   },
   {
    "duration": 5,
    "start_time": "2023-04-03T10:09:55.822Z"
   },
   {
    "duration": 28,
    "start_time": "2023-04-03T10:09:55.828Z"
   },
   {
    "duration": 180879,
    "start_time": "2023-04-03T10:09:55.857Z"
   },
   {
    "duration": 19,
    "start_time": "2023-04-03T10:12:56.740Z"
   },
   {
    "duration": 250068,
    "start_time": "2023-04-03T10:12:56.768Z"
   },
   {
    "duration": 27,
    "start_time": "2023-04-03T10:17:06.854Z"
   },
   {
    "duration": 91778,
    "start_time": "2023-04-03T10:17:06.884Z"
   },
   {
    "duration": 589,
    "start_time": "2023-04-03T10:18:38.671Z"
   },
   {
    "duration": 241,
    "start_time": "2023-04-03T10:18:39.261Z"
   },
   {
    "duration": 28,
    "start_time": "2023-04-03T10:18:39.503Z"
   },
   {
    "duration": 1090,
    "start_time": "2023-04-04T15:26:29.623Z"
   },
   {
    "duration": 714,
    "start_time": "2023-04-04T15:26:39.855Z"
   },
   {
    "duration": 123,
    "start_time": "2023-04-04T15:26:41.772Z"
   },
   {
    "duration": 16,
    "start_time": "2023-04-04T15:26:43.326Z"
   },
   {
    "duration": 9,
    "start_time": "2023-04-04T15:26:44.885Z"
   },
   {
    "duration": 36,
    "start_time": "2023-04-04T15:26:45.593Z"
   },
   {
    "duration": 11,
    "start_time": "2023-04-04T15:26:47.963Z"
   },
   {
    "duration": 48,
    "start_time": "2023-04-04T15:26:50.497Z"
   },
   {
    "duration": 7,
    "start_time": "2023-04-04T15:26:53.584Z"
   },
   {
    "duration": 16,
    "start_time": "2023-04-04T15:26:56.590Z"
   },
   {
    "duration": 201,
    "start_time": "2023-04-04T15:27:00.025Z"
   },
   {
    "duration": 1369,
    "start_time": "2023-04-04T15:29:26.725Z"
   },
   {
    "duration": 489,
    "start_time": "2023-04-04T15:29:44.454Z"
   },
   {
    "duration": 122,
    "start_time": "2023-04-04T15:30:24.173Z"
   },
   {
    "duration": 621,
    "start_time": "2023-04-04T15:30:30.197Z"
   },
   {
    "duration": 12,
    "start_time": "2023-04-04T15:33:27.868Z"
   },
   {
    "duration": 4,
    "start_time": "2023-04-04T15:33:52.086Z"
   },
   {
    "duration": 36,
    "start_time": "2023-04-04T15:35:31.511Z"
   },
   {
    "duration": 11,
    "start_time": "2023-04-04T15:35:43.548Z"
   },
   {
    "duration": 12,
    "start_time": "2023-04-04T15:38:54.401Z"
   },
   {
    "duration": 11,
    "start_time": "2023-04-04T15:39:05.497Z"
   },
   {
    "duration": 8,
    "start_time": "2023-04-04T15:39:12.362Z"
   },
   {
    "duration": 12,
    "start_time": "2023-04-04T15:39:24.593Z"
   },
   {
    "duration": 7,
    "start_time": "2023-04-04T15:39:28.757Z"
   },
   {
    "duration": 633,
    "start_time": "2023-04-04T15:41:32.386Z"
   },
   {
    "duration": 608,
    "start_time": "2023-04-04T15:41:47.406Z"
   },
   {
    "duration": 1463,
    "start_time": "2023-04-04T15:47:37.194Z"
   },
   {
    "duration": 81,
    "start_time": "2023-04-04T15:47:38.660Z"
   },
   {
    "duration": 14,
    "start_time": "2023-04-04T15:47:38.743Z"
   },
   {
    "duration": 29,
    "start_time": "2023-04-04T15:47:38.759Z"
   },
   {
    "duration": 56,
    "start_time": "2023-04-04T15:47:38.789Z"
   },
   {
    "duration": 14,
    "start_time": "2023-04-04T15:47:38.847Z"
   },
   {
    "duration": 75,
    "start_time": "2023-04-04T15:47:38.863Z"
   },
   {
    "duration": 5,
    "start_time": "2023-04-04T15:47:38.941Z"
   },
   {
    "duration": 46,
    "start_time": "2023-04-04T15:47:38.948Z"
   },
   {
    "duration": 177417,
    "start_time": "2023-04-04T15:47:38.997Z"
   },
   {
    "duration": 525,
    "start_time": "2023-04-04T15:50:36.416Z"
   },
   {
    "duration": 13,
    "start_time": "2023-04-04T15:50:36.944Z"
   },
   {
    "duration": 241231,
    "start_time": "2023-04-04T15:50:36.959Z"
   },
   {
    "duration": 14,
    "start_time": "2023-04-04T15:54:38.200Z"
   },
   {
    "duration": 7,
    "start_time": "2023-04-04T15:54:38.217Z"
   },
   {
    "duration": 124175,
    "start_time": "2023-04-04T15:54:38.225Z"
   },
   {
    "duration": 700,
    "start_time": "2023-04-04T15:56:42.406Z"
   },
   {
    "duration": 324,
    "start_time": "2023-04-04T15:56:43.109Z"
   },
   {
    "duration": 63,
    "start_time": "2023-04-04T15:56:43.436Z"
   },
   {
    "duration": 14,
    "start_time": "2023-04-04T15:56:43.501Z"
   },
   {
    "duration": 734,
    "start_time": "2023-04-04T15:56:43.517Z"
   },
   {
    "duration": 3246,
    "start_time": "2023-04-04T17:01:56.545Z"
   },
   {
    "duration": 211,
    "start_time": "2023-04-04T17:01:59.794Z"
   },
   {
    "duration": 16,
    "start_time": "2023-04-04T17:02:00.008Z"
   },
   {
    "duration": 23,
    "start_time": "2023-04-04T17:02:00.026Z"
   },
   {
    "duration": 87,
    "start_time": "2023-04-04T17:02:00.052Z"
   },
   {
    "duration": 33,
    "start_time": "2023-04-04T17:02:00.141Z"
   },
   {
    "duration": 76,
    "start_time": "2023-04-04T17:02:00.176Z"
   },
   {
    "duration": 7,
    "start_time": "2023-04-04T17:02:00.254Z"
   },
   {
    "duration": 49,
    "start_time": "2023-04-04T17:02:00.264Z"
   },
   {
    "duration": 2285,
    "start_time": "2023-04-04T17:02:33.348Z"
   },
   {
    "duration": 19,
    "start_time": "2023-04-04T17:02:55.631Z"
   },
   {
    "duration": 90,
    "start_time": "2023-04-04T17:03:27.314Z"
   },
   {
    "duration": 23,
    "start_time": "2023-04-04T17:03:34.738Z"
   },
   {
    "duration": 341,
    "start_time": "2023-04-04T17:04:04.069Z"
   },
   {
    "duration": 5259,
    "start_time": "2023-04-04T17:05:06.369Z"
   },
   {
    "duration": 5828,
    "start_time": "2023-04-04T17:06:14.156Z"
   },
   {
    "duration": 4718,
    "start_time": "2023-04-04T17:07:14.263Z"
   },
   {
    "duration": 4,
    "start_time": "2023-04-04T17:07:36.952Z"
   },
   {
    "duration": 7,
    "start_time": "2023-04-04T17:07:45.911Z"
   },
   {
    "duration": 4894,
    "start_time": "2023-04-04T17:08:36.538Z"
   },
   {
    "duration": 306,
    "start_time": "2023-04-04T17:09:10.861Z"
   },
   {
    "duration": 413,
    "start_time": "2023-04-04T17:11:41.743Z"
   },
   {
    "duration": 551,
    "start_time": "2023-04-04T17:11:53.332Z"
   },
   {
    "duration": 369,
    "start_time": "2023-04-04T17:12:18.305Z"
   },
   {
    "duration": 6080,
    "start_time": "2023-04-04T17:12:37.589Z"
   },
   {
    "duration": 1688,
    "start_time": "2023-04-10T14:56:47.305Z"
   },
   {
    "duration": 0,
    "start_time": "2023-04-10T14:56:48.995Z"
   },
   {
    "duration": 0,
    "start_time": "2023-04-10T14:56:48.997Z"
   },
   {
    "duration": 0,
    "start_time": "2023-04-10T14:56:48.998Z"
   },
   {
    "duration": 0,
    "start_time": "2023-04-10T14:56:48.999Z"
   },
   {
    "duration": 0,
    "start_time": "2023-04-10T14:56:49.000Z"
   },
   {
    "duration": 0,
    "start_time": "2023-04-10T14:56:49.001Z"
   },
   {
    "duration": 0,
    "start_time": "2023-04-10T14:56:49.002Z"
   },
   {
    "duration": 1,
    "start_time": "2023-04-10T14:56:49.003Z"
   },
   {
    "duration": 0,
    "start_time": "2023-04-10T14:56:49.005Z"
   },
   {
    "duration": 0,
    "start_time": "2023-04-10T14:56:49.006Z"
   },
   {
    "duration": 0,
    "start_time": "2023-04-10T14:56:49.008Z"
   },
   {
    "duration": 0,
    "start_time": "2023-04-10T14:56:49.009Z"
   },
   {
    "duration": 0,
    "start_time": "2023-04-10T14:56:49.009Z"
   },
   {
    "duration": 0,
    "start_time": "2023-04-10T14:56:49.011Z"
   },
   {
    "duration": 0,
    "start_time": "2023-04-10T14:56:49.012Z"
   },
   {
    "duration": 0,
    "start_time": "2023-04-10T14:56:49.013Z"
   },
   {
    "duration": 0,
    "start_time": "2023-04-10T14:56:49.014Z"
   },
   {
    "duration": 0,
    "start_time": "2023-04-10T14:56:49.016Z"
   },
   {
    "duration": 0,
    "start_time": "2023-04-10T14:56:49.017Z"
   },
   {
    "duration": 0,
    "start_time": "2023-04-10T14:56:49.018Z"
   },
   {
    "duration": 1407,
    "start_time": "2023-04-10T14:57:07.599Z"
   },
   {
    "duration": 98,
    "start_time": "2023-04-10T14:57:09.009Z"
   },
   {
    "duration": 14,
    "start_time": "2023-04-10T14:57:09.109Z"
   },
   {
    "duration": 11,
    "start_time": "2023-04-10T14:57:09.125Z"
   },
   {
    "duration": 47,
    "start_time": "2023-04-10T14:57:09.138Z"
   },
   {
    "duration": 10,
    "start_time": "2023-04-10T14:57:09.187Z"
   },
   {
    "duration": 49,
    "start_time": "2023-04-10T14:57:09.199Z"
   },
   {
    "duration": 5,
    "start_time": "2023-04-10T14:57:09.250Z"
   },
   {
    "duration": 35,
    "start_time": "2023-04-10T14:57:09.256Z"
   },
   {
    "duration": 171853,
    "start_time": "2023-04-10T14:57:09.293Z"
   },
   {
    "duration": 496,
    "start_time": "2023-04-10T15:00:01.147Z"
   },
   {
    "duration": 12,
    "start_time": "2023-04-10T15:00:01.645Z"
   },
   {
    "duration": 233148,
    "start_time": "2023-04-10T15:00:01.659Z"
   },
   {
    "duration": 10,
    "start_time": "2023-04-10T15:03:54.809Z"
   },
   {
    "duration": 3,
    "start_time": "2023-04-10T15:03:54.821Z"
   },
   {
    "duration": 105790,
    "start_time": "2023-04-10T15:03:54.826Z"
   },
   {
    "duration": 601,
    "start_time": "2023-04-10T15:05:40.618Z"
   },
   {
    "duration": 272,
    "start_time": "2023-04-10T15:05:41.221Z"
   },
   {
    "duration": 34,
    "start_time": "2023-04-10T15:05:41.495Z"
   },
   {
    "duration": 7,
    "start_time": "2023-04-10T15:05:41.531Z"
   },
   {
    "duration": 596,
    "start_time": "2023-04-10T15:05:41.539Z"
   }
  ],
  "kernelspec": {
   "display_name": "Python 3 (ipykernel)",
   "language": "python",
   "name": "python3"
  },
  "language_info": {
   "codemirror_mode": {
    "name": "ipython",
    "version": 3
   },
   "file_extension": ".py",
   "mimetype": "text/x-python",
   "name": "python",
   "nbconvert_exporter": "python",
   "pygments_lexer": "ipython3",
   "version": "3.9.5"
  },
  "toc": {
   "base_numbering": 1,
   "nav_menu": {},
   "number_sections": true,
   "sideBar": true,
   "skip_h1_title": true,
   "title_cell": "Содержание",
   "title_sidebar": "Contents",
   "toc_cell": true,
   "toc_position": {},
   "toc_section_display": true,
   "toc_window_display": false
  }
 },
 "nbformat": 4,
 "nbformat_minor": 2
}
